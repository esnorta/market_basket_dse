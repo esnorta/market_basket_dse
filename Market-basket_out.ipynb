{
 "cells": [
  {
   "cell_type": "markdown",
   "id": "93064963-2e37-4f4e-a1b3-c26c501f4460",
   "metadata": {},
   "source": [
    "# Market-basket analysis of book reviews on Amazon"
   ]
  },
  {
   "cell_type": "markdown",
   "id": "167c8bff-6c23-49b9-ab57-2cb9819c6c9c",
   "metadata": {},
   "source": [
    "This notebook is a project work on the «Algorithms for massive data» course of DSE 2024/2025.\\\n",
    "Student: Timur Rezepov, 34177A"
   ]
  },
  {
   "cell_type": "markdown",
   "id": "35882a84-c27d-44e6-a793-1b2100fd3471",
   "metadata": {},
   "source": [
    "The market-basket analysis is used to describe many-many relationship between two kinds of objects.\n",
    "\n",
    "The results of market-basket analysis can be presented in the form of association rules: *I -> j*, where j\\\n",
    "is an item.\n",
    "\n",
    "The core concepts of market-basket analysis are:\n",
    "- frequent itemset - the set of items *I* which appears in the number of baskets as a subset;\n",
    "- support - the number of baskets for which I is a subset;\n",
    "- confidence of the rule *I -> j* -  is the fraction of the baskets with all of I that also contain j.\n",
    "\n",
    "These association rules can be used in a various ways: recommendations, cross-selling, bundle strategies.\n",
    "\n",
    "The project is based on based on the [Amazon Books Review](https://www.kaggle.com/datasets/mohamedbakhet/amazon-books-reviews) dataset. \\\n",
    "The subjects of market-basket analysis:\n",
    "- `items` - books\n",
    "- `baskets` - reviews made by a same user\n",
    "\n",
    "Books_rating.csv will be used as it's data is sufficient for the analysis.\n",
    "\n",
    "The theoretical concepts and solution approaches are mostly based on the textbook Mining of Massive Datasets(A. Rajaraman, J. Ullman)"
   ]
  },
  {
   "cell_type": "markdown",
   "id": "572efbfd-e84b-4dea-8e0f-c027f0bd157b",
   "metadata": {},
   "source": [
    "# Dataset"
   ]
  },
  {
   "cell_type": "code",
   "execution_count": 1,
   "id": "d239cb68-3556-4f16-b593-ca8312e6ce12",
   "metadata": {},
   "outputs": [],
   "source": [
    "import pandas as pd\n",
    "import random\n",
    "import numpy as np\n",
    "import math\n",
    "import warnings\n",
    "warnings.simplefilter(action='ignore', category=UserWarning)"
   ]
  },
  {
   "cell_type": "code",
   "execution_count": null,
   "id": "0f17721a-f2f4-4b16-a859-3b530eb3e32b",
   "metadata": {},
   "outputs": [],
   "source": [
    "import os\n",
    "import zipfile\n",
    "\n",
    "os.environ['KAGGLE_USERNAME'] = \"XXXX\"\n",
    "os.environ['KAGGLE_KEY'] = \"XXXX\"\n",
    "\n",
    "#!kaggle datasets download -d mohamedbakhet/amazon-books-reviews -p data/\n",
    "\n",
    "path_to_zip_file = 'data/amazon-books-reviews.zip'\n",
    "with zipfile.ZipFile(path_to_zip_file, 'r') as zip_ref:\n",
    "    zip_ref.extractall('data')\n",
    "\n",
    "dataset_path = 'data/Books_rating.csv'"
   ]
  },
  {
   "cell_type": "code",
   "execution_count": 3,
   "id": "81294417-bd70-42dc-b167-2015fe303b27",
   "metadata": {},
   "outputs": [],
   "source": [
    "def get_df(sample: bool, with_texts: bool = False) -> pd.DataFrame:\n",
    "    fields = ['Id', 'Title', 'User_id']\n",
    "    if with_texts is True:\n",
    "        fields.append('review/text')\n",
    "    \n",
    "    if sample is True:\n",
    "        n = 3000000 #number of records in file\n",
    "        s = 30000 #desired sample size\n",
    "        skip = sorted(random.sample(range(n),n-s))\n",
    "        skip.pop(0)\n",
    "        df = pd.read_csv(dataset_path, skiprows=skip, usecols=fields)\n",
    "    else: \n",
    "        df = pd.read_csv(dataset_path, usecols=fields)\n",
    "\n",
    "    columns = ['id', 'title', 'user_id']\n",
    "    if with_texts is True:\n",
    "        columns.append('text')\n",
    "    df.columns = columns\n",
    "    \n",
    "    return df"
   ]
  },
  {
   "cell_type": "markdown",
   "id": "cd552026-1563-478c-982c-189bc10c29d0",
   "metadata": {},
   "source": [
    "## Preprocessing"
   ]
  },
  {
   "cell_type": "code",
   "execution_count": 4,
   "id": "367ce82e-613c-4787-89c1-6e157442a3ac",
   "metadata": {},
   "outputs": [
    {
     "name": "stdout",
     "output_type": "stream",
     "text": [
      "<class 'pandas.core.frame.DataFrame'>\n",
      "RangeIndex: 30001 entries, 0 to 30000\n",
      "Data columns (total 4 columns):\n",
      " #   Column   Non-Null Count  Dtype \n",
      "---  ------   --------------  ----- \n",
      " 0   id       30001 non-null  object\n",
      " 1   title    30000 non-null  object\n",
      " 2   user_id  24371 non-null  object\n",
      " 3   text     30001 non-null  object\n",
      "dtypes: object(4)\n",
      "memory usage: 937.7+ KB\n"
     ]
    }
   ],
   "source": [
    "df = get_df(sample=True, with_texts=True)\n",
    "df.info()"
   ]
  },
  {
   "cell_type": "code",
   "execution_count": 5,
   "id": "6bf18d1e-b02c-4ecc-8046-f28ebb4a68f5",
   "metadata": {},
   "outputs": [
    {
     "data": {
      "text/html": [
       "<div>\n",
       "<style scoped>\n",
       "    .dataframe tbody tr th:only-of-type {\n",
       "        vertical-align: middle;\n",
       "    }\n",
       "\n",
       "    .dataframe tbody tr th {\n",
       "        vertical-align: top;\n",
       "    }\n",
       "\n",
       "    .dataframe thead th {\n",
       "        text-align: right;\n",
       "    }\n",
       "</style>\n",
       "<table border=\"1\" class=\"dataframe\">\n",
       "  <thead>\n",
       "    <tr style=\"text-align: right;\">\n",
       "      <th></th>\n",
       "      <th>id</th>\n",
       "      <th>title</th>\n",
       "      <th>user_id</th>\n",
       "      <th>text</th>\n",
       "    </tr>\n",
       "  </thead>\n",
       "  <tbody>\n",
       "    <tr>\n",
       "      <th>612</th>\n",
       "      <td>B000GL8UMI</td>\n",
       "      <td>Fahrenheit 451</td>\n",
       "      <td>A14I9UW7217ZVS</td>\n",
       "      <td>In a world where imagination and fantasy are s...</td>\n",
       "    </tr>\n",
       "    <tr>\n",
       "      <th>1673</th>\n",
       "      <td>B000GY0PV4</td>\n",
       "      <td>The Two Towers</td>\n",
       "      <td>A172VRBP4BZXK6</td>\n",
       "      <td>This is the third book in the Lord of the Ring...</td>\n",
       "    </tr>\n",
       "    <tr>\n",
       "      <th>3902</th>\n",
       "      <td>1844560333</td>\n",
       "      <td>Pride and Prejudice</td>\n",
       "      <td>A1UETDSYJJHYYW</td>\n",
       "      <td>It is generally considered a pretty, romantic ...</td>\n",
       "    </tr>\n",
       "    <tr>\n",
       "      <th>4413</th>\n",
       "      <td>0460872702</td>\n",
       "      <td>Great Gatsby (Everyman)</td>\n",
       "      <td>AMF0BX8A2I5SO</td>\n",
       "      <td>An interesting story about that time in histor...</td>\n",
       "    </tr>\n",
       "    <tr>\n",
       "      <th>4807</th>\n",
       "      <td>1582343632</td>\n",
       "      <td>Alice's Adventures in Wonderland and Through t...</td>\n",
       "      <td>A3H9SNCYD73G0L</td>\n",
       "      <td>The book Alice in wonderland starts when Alice...</td>\n",
       "    </tr>\n",
       "  </tbody>\n",
       "</table>\n",
       "</div>"
      ],
      "text/plain": [
       "              id                                              title  \\\n",
       "612   B000GL8UMI                                     Fahrenheit 451   \n",
       "1673  B000GY0PV4                                     The Two Towers   \n",
       "3902  1844560333                                Pride and Prejudice   \n",
       "4413  0460872702                            Great Gatsby (Everyman)   \n",
       "4807  1582343632  Alice's Adventures in Wonderland and Through t...   \n",
       "\n",
       "             user_id                                               text  \n",
       "612   A14I9UW7217ZVS  In a world where imagination and fantasy are s...  \n",
       "1673  A172VRBP4BZXK6  This is the third book in the Lord of the Ring...  \n",
       "3902  A1UETDSYJJHYYW  It is generally considered a pretty, romantic ...  \n",
       "4413   AMF0BX8A2I5SO  An interesting story about that time in histor...  \n",
       "4807  A3H9SNCYD73G0L  The book Alice in wonderland starts when Alice...  "
      ]
     },
     "execution_count": 5,
     "metadata": {},
     "output_type": "execute_result"
    }
   ],
   "source": [
    "df[df.duplicated(['text','user_id'])].head()"
   ]
  },
  {
   "cell_type": "markdown",
   "id": "651bb83f-4ca3-4849-8be9-7dc37f07253d",
   "metadata": {},
   "source": [
    "There are 2 issues with the dataset\n",
    "1. Missing values in user_id column;\n",
    "2. Duplicated review texts. Such cases don't contain any useful data in the context of market-basket analysis."
   ]
  },
  {
   "cell_type": "code",
   "execution_count": 6,
   "id": "92b1ad03-ef16-4c8a-92d2-3414d3ed6f49",
   "metadata": {},
   "outputs": [],
   "source": [
    "df = df[~df[\"user_id\"].isna()]\n",
    "df = df[~df.duplicated(['user_id','text'])]"
   ]
  },
  {
   "cell_type": "code",
   "execution_count": 7,
   "id": "5a5704f7-64a1-4e10-b6c3-0d97a08bd268",
   "metadata": {},
   "outputs": [
    {
     "name": "stdout",
     "output_type": "stream",
     "text": [
      "Number of baskets: 22037\n",
      "Number of unique items: 15175\n"
     ]
    }
   ],
   "source": [
    "baskets = df.groupby('user_id')['id'].agg(['unique'])\n",
    "basket_cnt = len(baskets)\n",
    "item_cnt = len(df['id'].unique())\n",
    "print (f'Number of baskets: {basket_cnt}')\n",
    "print (f'Number of unique items: {item_cnt}')"
   ]
  },
  {
   "cell_type": "code",
   "execution_count": 8,
   "id": "48c03c87-020e-4ea2-a5c3-c7307e5ebcba",
   "metadata": {},
   "outputs": [
    {
     "name": "stdout",
     "output_type": "stream",
     "text": [
      "Histogram of number of reviews by the same users (or basket sizes)\n"
     ]
    },
    {
     "data": {
      "text/html": [
       "<div>\n",
       "<style scoped>\n",
       "    .dataframe tbody tr th:only-of-type {\n",
       "        vertical-align: middle;\n",
       "    }\n",
       "\n",
       "    .dataframe tbody tr th {\n",
       "        vertical-align: top;\n",
       "    }\n",
       "\n",
       "    .dataframe thead th {\n",
       "        text-align: right;\n",
       "    }\n",
       "</style>\n",
       "<table border=\"1\" class=\"dataframe\">\n",
       "  <thead>\n",
       "    <tr style=\"text-align: right;\">\n",
       "      <th></th>\n",
       "      <th>size</th>\n",
       "      <th>share, %</th>\n",
       "    </tr>\n",
       "  </thead>\n",
       "  <tbody>\n",
       "    <tr>\n",
       "      <th>0</th>\n",
       "      <td>1</td>\n",
       "      <td>95.0</td>\n",
       "    </tr>\n",
       "    <tr>\n",
       "      <th>1</th>\n",
       "      <td>2</td>\n",
       "      <td>3.0</td>\n",
       "    </tr>\n",
       "    <tr>\n",
       "      <th>2</th>\n",
       "      <td>3</td>\n",
       "      <td>1.0</td>\n",
       "    </tr>\n",
       "    <tr>\n",
       "      <th>3</th>\n",
       "      <td>4</td>\n",
       "      <td>0.0</td>\n",
       "    </tr>\n",
       "    <tr>\n",
       "      <th>4</th>\n",
       "      <td>5</td>\n",
       "      <td>0.0</td>\n",
       "    </tr>\n",
       "  </tbody>\n",
       "</table>\n",
       "</div>"
      ],
      "text/plain": [
       "   size  share, %\n",
       "0     1      95.0\n",
       "1     2       3.0\n",
       "2     3       1.0\n",
       "3     4       0.0\n",
       "4     5       0.0"
      ]
     },
     "execution_count": 8,
     "metadata": {},
     "output_type": "execute_result"
    }
   ],
   "source": [
    "print ('Histogram of number of reviews by the same users (or basket sizes)')\n",
    "baskets['size'] = baskets['unique'].map(len)\n",
    "round(baskets.groupby('size').count()/basket_cnt*100).rename(columns={'unique': 'share, %'}).reset_index().head()"
   ]
  },
  {
   "cell_type": "markdown",
   "id": "9355b6e0-32ec-4410-9fae-efcf2decf274",
   "metadata": {},
   "source": [
    "A vast majority of users have only one review. So, I will limit the analysis to analysing frequent pairs (doubletons)."
   ]
  },
  {
   "cell_type": "code",
   "execution_count": 9,
   "id": "fd4352d7-8e24-4316-84ac-039382f37fec",
   "metadata": {},
   "outputs": [
    {
     "data": {
      "text/html": [
       "<div>\n",
       "<style scoped>\n",
       "    .dataframe tbody tr th:only-of-type {\n",
       "        vertical-align: middle;\n",
       "    }\n",
       "\n",
       "    .dataframe tbody tr th {\n",
       "        vertical-align: top;\n",
       "    }\n",
       "\n",
       "    .dataframe thead th {\n",
       "        text-align: right;\n",
       "    }\n",
       "</style>\n",
       "<table border=\"1\" class=\"dataframe\">\n",
       "  <thead>\n",
       "    <tr style=\"text-align: right;\">\n",
       "      <th></th>\n",
       "      <th>user_id</th>\n",
       "      <th>id</th>\n",
       "      <th>id_int</th>\n",
       "    </tr>\n",
       "  </thead>\n",
       "  <tbody>\n",
       "    <tr>\n",
       "      <th>0</th>\n",
       "      <td>A16FTKP8BXKGHG</td>\n",
       "      <td>0595344550</td>\n",
       "      <td>0</td>\n",
       "    </tr>\n",
       "    <tr>\n",
       "      <th>1</th>\n",
       "      <td>ARI272XF8TOL4</td>\n",
       "      <td>0802841899</td>\n",
       "      <td>1</td>\n",
       "    </tr>\n",
       "    <tr>\n",
       "      <th>2</th>\n",
       "      <td>A15PHIKUFT0A7U</td>\n",
       "      <td>0781810698</td>\n",
       "      <td>2</td>\n",
       "    </tr>\n",
       "    <tr>\n",
       "      <th>3</th>\n",
       "      <td>A21C1RB2DFVVXW</td>\n",
       "      <td>0671551345</td>\n",
       "      <td>3</td>\n",
       "    </tr>\n",
       "    <tr>\n",
       "      <th>5</th>\n",
       "      <td>A1U9ER7YMUEVLZ</td>\n",
       "      <td>B0000630MU</td>\n",
       "      <td>4</td>\n",
       "    </tr>\n",
       "  </tbody>\n",
       "</table>\n",
       "</div>"
      ],
      "text/plain": [
       "          user_id          id  id_int\n",
       "0  A16FTKP8BXKGHG  0595344550       0\n",
       "1   ARI272XF8TOL4  0802841899       1\n",
       "2  A15PHIKUFT0A7U  0781810698       2\n",
       "3  A21C1RB2DFVVXW  0671551345       3\n",
       "5  A1U9ER7YMUEVLZ  B0000630MU       4"
      ]
     },
     "execution_count": 9,
     "metadata": {},
     "output_type": "execute_result"
    }
   ],
   "source": [
    "df['id_int'], _ = pd.factorize(df['id'])\n",
    "df[['user_id', 'id', 'id_int']].head()"
   ]
  },
  {
   "cell_type": "markdown",
   "id": "6600104d-975e-4fd9-ae11-9a111828f7f9",
   "metadata": {},
   "source": [
    "# Implementation"
   ]
  },
  {
   "cell_type": "markdown",
   "id": "f2b598bf-3f55-49ca-879e-8ecc0e6371aa",
   "metadata": {},
   "source": [
    "## A-Priori Algorithm"
   ]
  },
  {
   "cell_type": "markdown",
   "id": "119fc234-d2cb-4d5c-a379-6c4eac2c9f11",
   "metadata": {},
   "source": [
    "The A-Priori Algorithm is designed to reduce the number of pairs that must be counted, at the expense of performing two passes over data, rather than one pass."
   ]
  },
  {
   "cell_type": "markdown",
   "id": "0700c406-1b4d-4d74-bca0-6f88bf288107",
   "metadata": {},
   "source": [
    "### Which of the items are frequent as singletons?"
   ]
  },
  {
   "cell_type": "code",
   "execution_count": 10,
   "id": "eb41b04d-95ef-4d4b-bc41-8b24bd9cfba1",
   "metadata": {},
   "outputs": [],
   "source": [
    "def count_pairs(n, r):\n",
    "    return int(math.factorial(n)/math.factorial((n-r))/math.factorial(r))"
   ]
  },
  {
   "cell_type": "code",
   "execution_count": 11,
   "id": "9da4b9cb-ebd2-4fe1-8b2c-f5ed23c66ae5",
   "metadata": {},
   "outputs": [],
   "source": [
    "singleton_support = df\\\n",
    "    .groupby('id_int')['id_int']\\\n",
    "    .count().reset_index(name='cnt')\\\n",
    "    .sort_values(by='cnt').drop(['id_int'], axis=1)\n",
    "singleton_support[\"support\"] = singleton_support[\"cnt\"]/basket_cnt*100"
   ]
  },
  {
   "cell_type": "markdown",
   "id": "5e8fc97f-1228-4450-910b-7935cdebbb0c",
   "metadata": {},
   "source": [
    "Typical support threshold value is 1% of baskets, but this value may vary depending \\\n",
    "on the particular dataset. I will estimate using different threshold."
   ]
  },
  {
   "cell_type": "code",
   "execution_count": 13,
   "id": "44a0b808-012f-40a0-a6fb-38a69801f125",
   "metadata": {
    "scrolled": true
   },
   "outputs": [
    {
     "name": "stdout",
     "output_type": "stream",
     "text": [
      "Threshold 0.00:\n",
      "  frequent singletons 3327\n",
      "  pairs 5532801 \n",
      "  memory 154918.428 Kb \n",
      "\n",
      "Threshold 0.02:\n",
      "  frequent singletons 489\n",
      "  pairs 119316 \n",
      "  memory 3340.848 Kb \n",
      "\n",
      "Threshold 0.04:\n",
      "  frequent singletons 173\n",
      "  pairs 14878 \n",
      "  memory 416.584 Kb \n",
      "\n",
      "Threshold 0.06:\n",
      "  frequent singletons 62\n",
      "  pairs 1891 \n",
      "  memory 52.948 Kb \n",
      "\n",
      "Threshold 0.08:\n",
      "  frequent singletons 29\n",
      "  pairs 406 \n",
      "  memory 11.368 Kb \n",
      "\n",
      "Threshold 0.10:\n",
      "  frequent singletons 15\n",
      "  pairs 105 \n",
      "  memory 2.94 Kb \n",
      "\n",
      "Threshold 0.12:\n",
      "  frequent singletons 11\n",
      "  pairs 55 \n",
      "  memory 1.54 Kb \n",
      "\n",
      "Threshold 0.14:\n",
      "  frequent singletons 10\n",
      "  pairs 45 \n",
      "  memory 1.26 Kb \n",
      "\n",
      "Threshold 0.16:\n",
      "  frequent singletons 8\n",
      "  pairs 28 \n",
      "  memory 0.784 Kb \n",
      "\n",
      "Threshold 0.18:\n",
      "  frequent singletons 3\n",
      "  pairs 3 \n",
      "  memory 0.084 Kb \n",
      "\n"
     ]
    }
   ],
   "source": [
    "max_sup = singleton_support[\"support\"].max()\n",
    "min_sup = singleton_support[\"support\"].min()\n",
    "step = (max_sup - min_sup) / 10\n",
    "\n",
    "for thresh in np.arange(min_sup, max_sup, step):\n",
    "    cnt = len(singleton_support[singleton_support[\"support\"] > thresh])\n",
    "    if cnt > 1:\n",
    "        pairs_cnt = count_pairs(cnt, 2)\n",
    "        mem = pairs_cnt*28/1000 # 28 bytes - typical size of int instance in Python \n",
    "        print (f'Threshold {thresh:.2f}:\\n  frequent singletons {cnt}\\n  pairs {pairs_cnt} \\n  memory {mem} Kb \\n')"
   ]
  },
  {
   "cell_type": "code",
   "execution_count": 14,
   "id": "5dc15fb7-671a-408d-89f0-118dd156d829",
   "metadata": {},
   "outputs": [
    {
     "name": "stdout",
     "output_type": "stream",
     "text": [
      "14\n"
     ]
    }
   ],
   "source": [
    "support_thresh = 0.11\n",
    "\n",
    "singleton_support[\"frequent\"] = singleton_support[\"support\"].apply(lambda x: 1 if x > support_thresh else 0)\n",
    "singleton_support = singleton_support[singleton_support[\"frequent\"] == 1]\n",
    "\n",
    "labels, ids = pd.factorize(singleton_support.index.unique())\n",
    "label_to_id = dict(zip(labels, ids))\n",
    "singleton_support['id_int'], _ = pd.factorize(singleton_support.index)\n",
    "\n",
    "frequent_items = list(singleton_support.index)\n",
    "\n",
    "print (len(frequent_items))"
   ]
  },
  {
   "cell_type": "markdown",
   "id": "ea2f8cdf-e5a7-447c-945b-0f670069b097",
   "metadata": {},
   "source": [
    "Now we can count frequent doubletons.\\\n",
    "We won't miss any frequent doubletons, because have selected all frequent singletons.\n",
    "\n",
    "First of all, we will select baskets, where our frequent items are met."
   ]
  },
  {
   "cell_type": "code",
   "execution_count": 15,
   "id": "97774ca5-694c-4f23-b581-2f05c39650f2",
   "metadata": {},
   "outputs": [
    {
     "name": "stdout",
     "output_type": "stream",
     "text": [
      "Count of baskets with frequent items: 0\n"
     ]
    }
   ],
   "source": [
    "df_frequent = df[df[\"id_int\"].apply(lambda x: x in frequent_items)]\n",
    "\n",
    "baskets = df_frequent.groupby('user_id')['id_int'].agg(['unique'])\n",
    "baskets['size'] = baskets['unique'].map(len)\n",
    "baskets = baskets[baskets['size'] > 1]\n",
    "\n",
    "print (f'Count of baskets with frequent items: {len(baskets)}')"
   ]
  },
  {
   "cell_type": "code",
   "execution_count": 16,
   "id": "227fbfcc-7bbe-491b-85f0-07ab4c270874",
   "metadata": {},
   "outputs": [
    {
     "name": "stdout",
     "output_type": "stream",
     "text": [
      "Count of candidate pairs: 91\n"
     ]
    }
   ],
   "source": [
    "from itertools import combinations  \n",
    "\n",
    "pairs = list(combinations(frequent_items, 2))\n",
    "print (f'Count of candidate pairs: {len(pairs)}')"
   ]
  },
  {
   "cell_type": "code",
   "execution_count": 17,
   "id": "7f227a12-aa31-4f17-9ce6-eba61c36a810",
   "metadata": {},
   "outputs": [
    {
     "name": "stdout",
     "output_type": "stream",
     "text": [
      "Share of frequent items: 0.0%\n"
     ]
    }
   ],
   "source": [
    "loc = 0\n",
    "data = []\n",
    "for p in pairs:\n",
    "    rows = baskets[baskets['unique'].apply(lambda x: p[0] in x and p[1] in x)]\n",
    "    cnt = len(rows)\n",
    "\n",
    "    if cnt > 0:\n",
    "        data.append({'i': p[0], 'j': p[1], 'c': cnt})\n",
    "\n",
    "frequent_items_share = len(data)/len(pairs)*100\n",
    "print (f\"Share of frequent items: {frequent_items_share:.1f}%\")"
   ]
  },
  {
   "cell_type": "code",
   "execution_count": 18,
   "id": "86be2cb4-ae3d-4ea1-8279-f949845b1450",
   "metadata": {
    "scrolled": true
   },
   "outputs": [
    {
     "name": "stdout",
     "output_type": "stream",
     "text": [
      "31.3 ms ± 2.12 ms per loop (mean ± std. dev. of 7 runs, 3 loops each)\n"
     ]
    }
   ],
   "source": [
    "%%timeit -n 3\n",
    "\n",
    "loc = 0\n",
    "data = []\n",
    "for p in pairs:\n",
    "    rows = baskets[baskets['unique'].apply(lambda x: p[0] in x and p[1] in x)]\n",
    "    cnt = len(rows)\n",
    "\n",
    "    if cnt > 0:\n",
    "        data.append({'i': p[0], 'j': p[1], 'c': cnt})"
   ]
  },
  {
   "cell_type": "markdown",
   "id": "10d965b1-4503-4793-a489-81fffa4d9186",
   "metadata": {},
   "source": [
    "## PCY (sort of)"
   ]
  },
  {
   "cell_type": "markdown",
   "id": "c4974bc4-e370-447e-9916-6ecd68b57bec",
   "metadata": {},
   "source": [
    "**Problem:** only 10% of canditate pairs are frequent. \\\n",
    "Need to perform some frequency evaluation before the doubletons computation."
   ]
  },
  {
   "cell_type": "markdown",
   "id": "47291150-3fe0-4aa2-bdd6-1fb41f5990b1",
   "metadata": {},
   "source": [
    "In this implementation I will not generate all possible candidate pairs and loop through them with dataframe lookups.\n",
    "\n",
    "Instead, I will go through each basket with frequent items and implement a bucket (=pair) counter \\\n",
    "while examining baskets."
   ]
  },
  {
   "cell_type": "code",
   "execution_count": 19,
   "id": "a08596b6-ae9c-454a-b19d-1531482d2d0e",
   "metadata": {},
   "outputs": [
    {
     "name": "stdout",
     "output_type": "stream",
     "text": [
      "Count of baskets with frequent items: 1\n"
     ]
    }
   ],
   "source": [
    "baskets = df_frequent.groupby('user_id')['id_int'].apply(list)\n",
    "baskets = baskets[baskets.apply(len) > 1]\n",
    "\n",
    "print (f'Count of baskets with frequent items: {len(baskets)}')"
   ]
  },
  {
   "cell_type": "code",
   "execution_count": 20,
   "id": "6a92fc97-3562-45c8-b457-963d11dc9abd",
   "metadata": {
    "scrolled": true
   },
   "outputs": [
    {
     "name": "stdout",
     "output_type": "stream",
     "text": [
      "The slowest run took 5.43 times longer than the fastest. This could mean that an intermediate result is being cached.\n",
      "5.75 μs ± 5.09 μs per loop (mean ± std. dev. of 7 runs, 3 loops each)\n"
     ]
    }
   ],
   "source": [
    "%%timeit -n 3\n",
    "\n",
    "hash_buckets = {}\n",
    "\n",
    "for basket in baskets:\n",
    "    if len(basket) < 2:\n",
    "        continue\n",
    "    for i in range(len(basket)):\n",
    "        for j in range(i+1, len(basket)):\n",
    "            pair = sorted([basket[i], basket[j]])\n",
    "            bucket_idx = tuple(pair)\n",
    "            hash_buckets[bucket_idx] = hash_buckets.get(bucket_idx, 0) + 1 \n",
    "\n",
    "data = []\n",
    "for k, v in hash_buckets.items():\n",
    "    data.append({'i': k[0], 'j': k[1], 'c': v})"
   ]
  },
  {
   "cell_type": "markdown",
   "id": "d4c0bc1e-b21b-427d-98a8-1ac213b3ba6b",
   "metadata": {},
   "source": [
    "The PCY performance is times faster."
   ]
  },
  {
   "cell_type": "markdown",
   "id": "b6cfb59f-15db-4814-a158-0557c28eea97",
   "metadata": {},
   "source": [
    "# Full dataset"
   ]
  },
  {
   "cell_type": "code",
   "execution_count": 21,
   "id": "bfc9cd0f-c390-4386-b5a9-dd6d41896f52",
   "metadata": {},
   "outputs": [],
   "source": [
    "def process_df(df: pd.DataFrame) -> pd.DataFrame:\n",
    "    # Exclude rows with null user_id\n",
    "    df = df[~df[\"user_id\"].isna()]\n",
    "    df = df[~df.duplicated(['user_id','id'])]\n",
    "    df['id_int'], _ = pd.factorize(df['id'])\n",
    "    return df \n",
    "\n",
    "def get_frequent_items(df: pd.DataFrame, support_threshold: float, basket_cnt):\n",
    "    singleton_support = df\\\n",
    "        .groupby('id_int')['id_int']\\\n",
    "        .count().reset_index(name='cnt')\\\n",
    "        .sort_values(by='cnt').drop(['id_int'], axis=1)\n",
    "    singleton_support[\"support\"] = singleton_support[\"cnt\"]/basket_cnt*100\n",
    "\n",
    "    singleton_support[\"frequent\"] = singleton_support[\"support\"].apply(lambda x: 1 if x > support_threshold else 0)\n",
    "    singleton_support = singleton_support[singleton_support[\"frequent\"] == 1]\n",
    "    \n",
    "    labels, ids = pd.factorize(singleton_support.index.unique())\n",
    "    label_to_id = dict(zip(labels, ids))\n",
    "    singleton_support['id_int'], _ = pd.factorize(singleton_support.index)\n",
    "    \n",
    "    return list(singleton_support.index)"
   ]
  },
  {
   "cell_type": "code",
   "execution_count": 22,
   "id": "69d00077-11c5-4d2d-a65c-6d9fc1d23a6b",
   "metadata": {},
   "outputs": [
    {
     "name": "stdout",
     "output_type": "stream",
     "text": [
      "Df size: 2397614\n",
      "Number of baskets: 1008972\n",
      "Number of unique items: 216023\n"
     ]
    }
   ],
   "source": [
    "df = get_df(sample=False)\n",
    "df = process_df(df)\n",
    "\n",
    "basket_cnt = len(df['user_id'].unique())\n",
    "item_cnt = len(df['id'].unique())\n",
    "\n",
    "print (f'Df size: {len(df)}')\n",
    "print (f'Number of baskets: {basket_cnt}')\n",
    "print (f'Number of unique items: {item_cnt}')"
   ]
  },
  {
   "cell_type": "code",
   "execution_count": 23,
   "id": "4375f9f5-1429-41ca-b2d2-3a9d62f3f74b",
   "metadata": {},
   "outputs": [
    {
     "name": "stdout",
     "output_type": "stream",
     "text": [
      "Frequent items count:  10\n"
     ]
    }
   ],
   "source": [
    "frequent_items = get_frequent_items(df, 0.3, basket_cnt)\n",
    "df_frequent = df[df[\"id_int\"].apply(lambda x: x in frequent_items)]\n",
    "print ('Frequent items count: ', len(frequent_items))"
   ]
  },
  {
   "cell_type": "markdown",
   "id": "c2441250-f390-4a53-9278-1c0913258134",
   "metadata": {},
   "source": [
    "## A-Priori"
   ]
  },
  {
   "cell_type": "code",
   "execution_count": 24,
   "id": "b23debfe-8be4-4e6d-963c-58d0b16eb09a",
   "metadata": {},
   "outputs": [],
   "source": [
    "def run_apriori(baskets: pd.DataFrame, pairs: list):\n",
    "    loc = 0\n",
    "    data = []\n",
    "    for p in pairs:\n",
    "        p = sorted([p[0], p[1]])\n",
    "        rows = baskets[baskets['unique'].apply(lambda x: p[0] in x and p[1] in x)]\n",
    "        cnt = len(rows)\n",
    "    \n",
    "        if cnt > 0:\n",
    "            data.append({'i': p[0], 'j': p[1], 'c': cnt})\n",
    "            \n",
    "    return data"
   ]
  },
  {
   "cell_type": "code",
   "execution_count": 25,
   "id": "ad52100e-0f53-40c6-886e-dca9db1f48cf",
   "metadata": {},
   "outputs": [
    {
     "name": "stdout",
     "output_type": "stream",
     "text": [
      "Count of baskets with frequent items: 3575\n",
      "Count of candidate pairs: 45\n"
     ]
    }
   ],
   "source": [
    "from itertools import combinations  \n",
    "\n",
    "baskets = df_frequent.groupby('user_id')['id_int'].agg(['unique'])\n",
    "baskets['size'] = baskets['unique'].map(len)\n",
    "baskets = baskets[baskets['size'] > 1]\n",
    "\n",
    "print (f'Count of baskets with frequent items: {len(baskets)}')\n",
    "\n",
    "pairs = list(combinations(frequent_items, 2))\n",
    "print (f'Count of candidate pairs: {len(pairs)}')"
   ]
  },
  {
   "cell_type": "code",
   "execution_count": 26,
   "id": "6ded16c7-a61c-41ae-b3e9-3df50f2385a1",
   "metadata": {},
   "outputs": [
    {
     "name": "stdout",
     "output_type": "stream",
     "text": [
      "CPU times: user 1.53 s, sys: 16.2 ms, total: 1.55 s\n",
      "Wall time: 1.59 s\n"
     ]
    }
   ],
   "source": [
    "%%time\n",
    "data = run_apriori(baskets, pairs)"
   ]
  },
  {
   "cell_type": "code",
   "execution_count": 27,
   "id": "585f333c-846f-4f9c-9fc7-b42724c4374a",
   "metadata": {},
   "outputs": [
    {
     "name": "stdout",
     "output_type": "stream",
     "text": [
      "Count of frequent pairs: 45\n"
     ]
    }
   ],
   "source": [
    "df_pairs = pd.DataFrame(data)\n",
    "df_pairs = df_pairs.reset_index(drop=True).sort_values(by=['i', 'j'])\n",
    "print (f'Count of frequent pairs: {len(df_pairs)}')"
   ]
  },
  {
   "cell_type": "markdown",
   "id": "8b891c19-fda3-4785-8ab7-c4607cdc8926",
   "metadata": {},
   "source": [
    "## PCY"
   ]
  },
  {
   "cell_type": "code",
   "execution_count": 28,
   "id": "51a90e90-2943-498a-9de3-101a3a70450a",
   "metadata": {},
   "outputs": [],
   "source": [
    "def get_frequent_pairs_pcy(baskets_series: pd.core.series.Series):\n",
    "    hash_buckets = {}\n",
    "\n",
    "    for basket in baskets_series:\n",
    "        if len(basket) < 2:\n",
    "            continue\n",
    "        for i in range(len(basket)):\n",
    "            for j in range(i+1, len(basket)):\n",
    "                pair = sorted([basket[i], basket[j]])\n",
    "                bucket_idx = tuple(pair)\n",
    "                hash_buckets[bucket_idx] = hash_buckets.get(bucket_idx, 0) + 1 \n",
    "    \n",
    "    data = []\n",
    "    for k, v in hash_buckets.items():\n",
    "        data.append({'i': k[0], 'j': k[1], 'c': v})\n",
    "    return data"
   ]
  },
  {
   "cell_type": "code",
   "execution_count": 29,
   "id": "ff0e4a1c-c23d-4c44-ac8f-1bb8cc0f88a6",
   "metadata": {},
   "outputs": [],
   "source": [
    "baskets = df_frequent.groupby('user_id')['id_int'].apply(list)\n",
    "baskets = baskets[baskets.apply(len) > 1]"
   ]
  },
  {
   "cell_type": "code",
   "execution_count": 30,
   "id": "ef4d3215-de85-43e4-9c95-8c9164913ce4",
   "metadata": {},
   "outputs": [
    {
     "name": "stdout",
     "output_type": "stream",
     "text": [
      "CPU times: user 85.6 ms, sys: 3.08 ms, total: 88.7 ms\n",
      "Wall time: 88.5 ms\n"
     ]
    }
   ],
   "source": [
    "%%time\n",
    "data = get_frequent_pairs_pcy(baskets)"
   ]
  },
  {
   "cell_type": "code",
   "execution_count": 31,
   "id": "b1d32fb6-cdfb-437f-bb8c-8987640ac522",
   "metadata": {},
   "outputs": [
    {
     "name": "stdout",
     "output_type": "stream",
     "text": [
      "Count of frequent pairs: 45\n",
      "Count of rows different in two dataframes: 0\n"
     ]
    }
   ],
   "source": [
    "df_pairs_pcy = pd.DataFrame(data)\n",
    "\n",
    "df_pairs_pcy = df_pairs_pcy.sort_values(by=['i', 'j']).reset_index(drop=True)\n",
    "df_pairs = df_pairs.sort_values(by=['i', 'j']).reset_index(drop=True)\n",
    "\n",
    "print (f'Count of frequent pairs: {len(df_pairs_pcy)}')\n",
    "print (f'Count of rows different in two dataframes: {len(df_pairs.compare(df_pairs_pcy))}')"
   ]
  },
  {
   "cell_type": "markdown",
   "id": "9cff0b78-3987-437f-80c9-9fa4216d11e3",
   "metadata": {},
   "source": [
    "There is no difference between the resulting pairs count produced by two implementaions of full dataset.\\\n",
    "But the PCY implementation if faster: ~100 vs 1800 milliseconds."
   ]
  },
  {
   "cell_type": "markdown",
   "id": "9e819e7a-b559-456e-9cf4-d15f64dad9a1",
   "metadata": {},
   "source": [
    "## Memory tests"
   ]
  },
  {
   "cell_type": "markdown",
   "id": "7dbe3441-191b-460a-bd97-74fa3ac9de3c",
   "metadata": {},
   "source": [
    "In this part I would like to evaluate how this market-basket implementation scales in terms of used memory. \\\n",
    "I will compare the total memory size used by objects in the environment for two cases:\n",
    "- part of the dataset\n",
    "- full dataset"
   ]
  },
  {
   "cell_type": "code",
   "execution_count": 32,
   "id": "f2644475-5198-485e-9764-0f655998bb1a",
   "metadata": {},
   "outputs": [],
   "source": [
    "import sys\n",
    "\n",
    "# These are the usual ipython objects, including this one you are creating\n",
    "ipython_vars = ['In', 'Out', 'exit', 'quit', 'get_ipython', 'ipython_vars']\n",
    "\n",
    "def get_memory_used(objects):\n",
    "    objects = sorted([(x, sys.getsizeof(globals().get(x))) for x in objects])\n",
    "    mem = round(sum([o[1] for o in objects])/10e6)\n",
    "    print (f\"Memory used (MB): {mem}\")\n",
    "    return objects"
   ]
  },
  {
   "cell_type": "code",
   "execution_count": 33,
   "id": "01ace96c-5a12-4c3b-b569-928cb310f8d9",
   "metadata": {},
   "outputs": [],
   "source": [
    "def run_pcy(df, pairs_count_func, support_threshold: float=0.1, verbose: bool=True):\n",
    "    \n",
    "    basket_cnt = len(df['user_id'].unique())\n",
    "    item_cnt = len(df['id'].unique())\n",
    "\n",
    "    frequent_items = get_frequent_items(df, support_threshold, basket_cnt)\n",
    "    df_frequent = df[df[\"id_int\"].apply(lambda x: x in frequent_items)]\n",
    "\n",
    "    baskets = df_frequent.groupby('user_id')['id_int'].apply(list)\n",
    "    baskets = baskets[baskets.apply(len) > 1]\n",
    "    \n",
    "    data = pairs_count_func(baskets)\n",
    "    \n",
    "    if verbose is not False:\n",
    "        print (f'Dataset size: {len(df)}')\n",
    "        print (f'Number of baskets: {basket_cnt}')\n",
    "        print (f'Number of unique items: {item_cnt}')\n",
    "        print ('Frequent items count: ', len(frequent_items))\n",
    "        get_memory_used(dir())\n",
    "        \n",
    "    return pd.DataFrame(data)"
   ]
  },
  {
   "cell_type": "code",
   "execution_count": 34,
   "id": "c8a63299-07f2-4a82-91d7-14cd5e86ec39",
   "metadata": {},
   "outputs": [
    {
     "name": "stdout",
     "output_type": "stream",
     "text": [
      "-----Run on a sample-----\n",
      "Dataset size: 24372\n",
      "Number of baskets: 21957\n",
      "Number of unique items: 15021\n",
      "Frequent items count:  0\n",
      "Memory used (MB): 1\n",
      "\n",
      "-----Run on a full dataset-----\n",
      "Dataset size: 2397614\n",
      "Number of baskets: 1008972\n",
      "Number of unique items: 216023\n",
      "Frequent items count:  0\n",
      "Memory used (MB): 55\n"
     ]
    }
   ],
   "source": [
    "print ('-----Run on a sample-----')\n",
    "df = get_df(sample=True, with_texts=False)\n",
    "df = process_df(df)\n",
    "df_pairs = run_pcy(df, get_frequent_pairs_pcy, True)\n",
    "\n",
    "print ('\\n-----Run on a full dataset-----')\n",
    "df = get_df(sample=False, with_texts=False)\n",
    "df = process_df(df)\n",
    "df_pairs = run_pcy(df, get_frequent_pairs_pcy, True)"
   ]
  },
  {
   "cell_type": "markdown",
   "id": "fbea60de-df9f-4d60-9280-e335fa3fc045",
   "metadata": {},
   "source": [
    "I would say that the PCY implementation scales well enough: \n",
    "to process a 100 times larger dataset the we need 54 MB of RAM more."
   ]
  },
  {
   "cell_type": "markdown",
   "id": "4fc1250b-14fb-4867-ac90-94d23633ebe7",
   "metadata": {},
   "source": [
    "## Selecting frequent items using MapReduce"
   ]
  },
  {
   "cell_type": "markdown",
   "id": "22ab2881-945b-4ebe-a039-913b692032c2",
   "metadata": {},
   "source": [
    "Although the full dataset is processed pretty quickly I would like to implement the map reduce algorithm in order to make faster. \n",
    "\n",
    "I won't use any external libraries, the solution will be based on python multiprocessing.\\\n",
    "Analysing the data processing steps, I have come to the conclusion that the slowest part is selecting baskets with frequent items.\n",
    "My MapReduce implemention will consist of:\\\n",
    "**Map step**: check if a basket contains any of the frequent items\\\n",
    "**Reduce step**: aggregate the results"
   ]
  },
  {
   "cell_type": "code",
   "execution_count": 45,
   "id": "59352df7-6aa1-4e5b-8d0a-9558740add82",
   "metadata": {},
   "outputs": [],
   "source": [
    "import multiprocess as mp\n",
    "import matplotlib.pyplot as plt\n",
    "\n",
    "\n",
    "class MapReduce:\n",
    "    def __init__(self, num_workers, map_func, reduce_func):\n",
    "        self.map_func = map_func\n",
    "        self.reduce_func = reduce_func\n",
    "        self.pool = mp.Pool(num_workers)\n",
    "        self.num_workers = num_workers\n",
    "\n",
    "    def __call__(self, inputs):\n",
    "        chunksize = int(len(inputs)/self.num_workers)\n",
    "        map_responses = self.pool.map(self.map_func, inputs, chunksize=chunksize)\n",
    "        reduced = self.reduce_func(map_responses)\n",
    "        \n",
    "        return reduced"
   ]
  },
  {
   "cell_type": "code",
   "execution_count": 36,
   "id": "c48ed11f-6452-46c1-a173-bbd6f70686f8",
   "metadata": {},
   "outputs": [],
   "source": [
    "def select_by_frequent_items(part):\n",
    "    if part['id_int'] in frequent_items:\n",
    "        return part\n",
    "    return\n",
    "\n",
    "def reduce(responses):\n",
    "    result = []\n",
    "    for resp in responses:\n",
    "        if resp is not None:\n",
    "            result.append(resp)\n",
    "    return result"
   ]
  },
  {
   "cell_type": "code",
   "execution_count": 37,
   "id": "41411da7-7a5d-4146-9a20-416311920ffc",
   "metadata": {},
   "outputs": [],
   "source": [
    "frequent_items = get_frequent_items(df, 0.1, basket_cnt)"
   ]
  },
  {
   "cell_type": "code",
   "execution_count": 38,
   "id": "a37c4cb1-da9b-47bd-bd7a-a92bc23ac2f8",
   "metadata": {},
   "outputs": [],
   "source": [
    "import time\n",
    "start = time.process_time()\n",
    "\n",
    "row_counts = [100, 1000, 10000, 100000, 1000000, 5000000]\n",
    "\n",
    "data_timing = []\n",
    "for row_count in row_counts:\n",
    "    df_frequent = df.iloc[:row_count][df[\"id_int\"].apply(lambda x: x in frequent_items)]\n",
    "    \n",
    "    delta = time.process_time() - start\n",
    "    start = time.process_time()\n",
    "\n",
    "    data_timing.append({\"rows\": row_count, \"time\": delta, \"implementation\": \"pandas\"})"
   ]
  },
  {
   "cell_type": "code",
   "execution_count": 39,
   "id": "8fa5934b-5803-4ed7-a354-c56a719903be",
   "metadata": {},
   "outputs": [
    {
     "name": "stderr",
     "output_type": "stream",
     "text": [
      "Process ForkPoolWorker-4:\n",
      "Process ForkPoolWorker-5:\n",
      "Process ForkPoolWorker-6:\n",
      "Process ForkPoolWorker-3:\n",
      "Process ForkPoolWorker-8:\n",
      "Process ForkPoolWorker-2:\n",
      "Process ForkPoolWorker-1:\n",
      "Process ForkPoolWorker-7:\n",
      "Traceback (most recent call last):\n",
      "Traceback (most recent call last):\n",
      "Traceback (most recent call last):\n",
      "Traceback (most recent call last):\n",
      "Traceback (most recent call last):\n",
      "Traceback (most recent call last):\n",
      "Traceback (most recent call last):\n",
      "Traceback (most recent call last):\n",
      "  File \"/opt/miniconda3/envs/massive_algos_env/lib/python3.12/site-packages/multiprocess/process.py\", line 314, in _bootstrap\n",
      "    self.run()\n",
      "  File \"/opt/miniconda3/envs/massive_algos_env/lib/python3.12/site-packages/multiprocess/process.py\", line 314, in _bootstrap\n",
      "    self.run()\n",
      "  File \"/opt/miniconda3/envs/massive_algos_env/lib/python3.12/site-packages/multiprocess/process.py\", line 314, in _bootstrap\n",
      "    self.run()\n",
      "  File \"/opt/miniconda3/envs/massive_algos_env/lib/python3.12/site-packages/multiprocess/process.py\", line 314, in _bootstrap\n",
      "    self.run()\n",
      "  File \"/opt/miniconda3/envs/massive_algos_env/lib/python3.12/site-packages/multiprocess/process.py\", line 314, in _bootstrap\n",
      "    self.run()\n",
      "  File \"/opt/miniconda3/envs/massive_algos_env/lib/python3.12/site-packages/multiprocess/process.py\", line 314, in _bootstrap\n",
      "    self.run()\n",
      "  File \"/opt/miniconda3/envs/massive_algos_env/lib/python3.12/site-packages/multiprocess/process.py\", line 314, in _bootstrap\n",
      "    self.run()\n",
      "  File \"/opt/miniconda3/envs/massive_algos_env/lib/python3.12/site-packages/multiprocess/process.py\", line 314, in _bootstrap\n",
      "    self.run()\n",
      "  File \"/opt/miniconda3/envs/massive_algos_env/lib/python3.12/site-packages/multiprocess/process.py\", line 108, in run\n",
      "    self._target(*self._args, **self._kwargs)\n",
      "  File \"/opt/miniconda3/envs/massive_algos_env/lib/python3.12/site-packages/multiprocess/process.py\", line 108, in run\n",
      "    self._target(*self._args, **self._kwargs)\n",
      "  File \"/opt/miniconda3/envs/massive_algos_env/lib/python3.12/site-packages/multiprocess/process.py\", line 108, in run\n",
      "    self._target(*self._args, **self._kwargs)\n",
      "  File \"/opt/miniconda3/envs/massive_algos_env/lib/python3.12/site-packages/multiprocess/process.py\", line 108, in run\n",
      "    self._target(*self._args, **self._kwargs)\n",
      "  File \"/opt/miniconda3/envs/massive_algos_env/lib/python3.12/site-packages/multiprocess/process.py\", line 108, in run\n",
      "    self._target(*self._args, **self._kwargs)\n",
      "  File \"/opt/miniconda3/envs/massive_algos_env/lib/python3.12/site-packages/multiprocess/process.py\", line 108, in run\n",
      "    self._target(*self._args, **self._kwargs)\n",
      "  File \"/opt/miniconda3/envs/massive_algos_env/lib/python3.12/site-packages/multiprocess/process.py\", line 108, in run\n",
      "    self._target(*self._args, **self._kwargs)\n",
      "  File \"/opt/miniconda3/envs/massive_algos_env/lib/python3.12/site-packages/multiprocess/process.py\", line 108, in run\n",
      "    self._target(*self._args, **self._kwargs)\n",
      "  File \"/opt/miniconda3/envs/massive_algos_env/lib/python3.12/site-packages/multiprocess/pool.py\", line 114, in worker\n",
      "    task = get()\n",
      "           ^^^^^\n",
      "  File \"/opt/miniconda3/envs/massive_algos_env/lib/python3.12/site-packages/multiprocess/pool.py\", line 114, in worker\n",
      "    task = get()\n",
      "           ^^^^^\n",
      "  File \"/opt/miniconda3/envs/massive_algos_env/lib/python3.12/site-packages/multiprocess/pool.py\", line 114, in worker\n",
      "    task = get()\n",
      "           ^^^^^\n",
      "  File \"/opt/miniconda3/envs/massive_algos_env/lib/python3.12/site-packages/multiprocess/pool.py\", line 114, in worker\n",
      "    task = get()\n",
      "           ^^^^^\n",
      "  File \"/opt/miniconda3/envs/massive_algos_env/lib/python3.12/site-packages/multiprocess/pool.py\", line 114, in worker\n",
      "    task = get()\n",
      "           ^^^^^\n",
      "  File \"/opt/miniconda3/envs/massive_algos_env/lib/python3.12/site-packages/multiprocess/pool.py\", line 114, in worker\n",
      "    task = get()\n",
      "           ^^^^^\n",
      "  File \"/opt/miniconda3/envs/massive_algos_env/lib/python3.12/site-packages/multiprocess/pool.py\", line 114, in worker\n",
      "    task = get()\n",
      "           ^^^^^\n",
      "  File \"/opt/miniconda3/envs/massive_algos_env/lib/python3.12/site-packages/multiprocess/pool.py\", line 114, in worker\n",
      "    task = get()\n",
      "           ^^^^^\n",
      "  File \"/opt/miniconda3/envs/massive_algos_env/lib/python3.12/site-packages/multiprocess/queues.py\", line 389, in get\n",
      "    with self._rlock:\n",
      "         ^^^^^^^^^^^\n",
      "  File \"/opt/miniconda3/envs/massive_algos_env/lib/python3.12/site-packages/multiprocess/queues.py\", line 389, in get\n",
      "    with self._rlock:\n",
      "         ^^^^^^^^^^^\n",
      "  File \"/opt/miniconda3/envs/massive_algos_env/lib/python3.12/site-packages/multiprocess/queues.py\", line 389, in get\n",
      "    with self._rlock:\n",
      "         ^^^^^^^^^^^\n",
      "  File \"/opt/miniconda3/envs/massive_algos_env/lib/python3.12/site-packages/multiprocess/queues.py\", line 389, in get\n",
      "    with self._rlock:\n",
      "         ^^^^^^^^^^^\n",
      "  File \"/opt/miniconda3/envs/massive_algos_env/lib/python3.12/site-packages/multiprocess/queues.py\", line 389, in get\n",
      "    with self._rlock:\n",
      "         ^^^^^^^^^^^\n",
      "  File \"/opt/miniconda3/envs/massive_algos_env/lib/python3.12/site-packages/multiprocess/queues.py\", line 390, in get\n",
      "    res = self._reader.recv_bytes()\n",
      "          ^^^^^^^^^^^^^^^^^^^^^^^^^\n",
      "  File \"/opt/miniconda3/envs/massive_algos_env/lib/python3.12/site-packages/multiprocess/queues.py\", line 389, in get\n",
      "    with self._rlock:\n",
      "         ^^^^^^^^^^^\n",
      "  File \"/opt/miniconda3/envs/massive_algos_env/lib/python3.12/site-packages/multiprocess/synchronize.py\", line 101, in __enter__\n",
      "    return self._semlock.__enter__()\n",
      "           ^^^^^^^^^^^^^^^^^^^^^^^^^\n",
      "  File \"/opt/miniconda3/envs/massive_algos_env/lib/python3.12/site-packages/multiprocess/queues.py\", line 389, in get\n",
      "    with self._rlock:\n",
      "         ^^^^^^^^^^^\n",
      "  File \"/opt/miniconda3/envs/massive_algos_env/lib/python3.12/site-packages/multiprocess/synchronize.py\", line 101, in __enter__\n",
      "    return self._semlock.__enter__()\n",
      "           ^^^^^^^^^^^^^^^^^^^^^^^^^\n",
      "  File \"/opt/miniconda3/envs/massive_algos_env/lib/python3.12/site-packages/multiprocess/synchronize.py\", line 101, in __enter__\n",
      "    return self._semlock.__enter__()\n",
      "           ^^^^^^^^^^^^^^^^^^^^^^^^^\n",
      "  File \"/opt/miniconda3/envs/massive_algos_env/lib/python3.12/site-packages/multiprocess/synchronize.py\", line 101, in __enter__\n",
      "    return self._semlock.__enter__()\n",
      "           ^^^^^^^^^^^^^^^^^^^^^^^^^\n",
      "  File \"/opt/miniconda3/envs/massive_algos_env/lib/python3.12/site-packages/multiprocess/synchronize.py\", line 101, in __enter__\n",
      "    return self._semlock.__enter__()\n",
      "           ^^^^^^^^^^^^^^^^^^^^^^^^^\n",
      "  File \"/opt/miniconda3/envs/massive_algos_env/lib/python3.12/site-packages/multiprocess/connection.py\", line 219, in recv_bytes\n",
      "    buf = self._recv_bytes(maxlength)\n",
      "          ^^^^^^^^^^^^^^^^^^^^^^^^^^^\n",
      "  File \"/opt/miniconda3/envs/massive_algos_env/lib/python3.12/site-packages/multiprocess/synchronize.py\", line 101, in __enter__\n",
      "    return self._semlock.__enter__()\n",
      "           ^^^^^^^^^^^^^^^^^^^^^^^^^\n",
      "  File \"/opt/miniconda3/envs/massive_algos_env/lib/python3.12/site-packages/multiprocess/synchronize.py\", line 101, in __enter__\n",
      "    return self._semlock.__enter__()\n",
      "           ^^^^^^^^^^^^^^^^^^^^^^^^^\n",
      "KeyboardInterrupt\n",
      "KeyboardInterrupt\n",
      "KeyboardInterrupt\n",
      "KeyboardInterrupt\n",
      "KeyboardInterrupt\n",
      "  File \"/opt/miniconda3/envs/massive_algos_env/lib/python3.12/site-packages/multiprocess/connection.py\", line 433, in _recv_bytes\n",
      "    buf = self._recv(4)\n",
      "          ^^^^^^^^^^^^^\n",
      "KeyboardInterrupt\n",
      "KeyboardInterrupt\n",
      "  File \"/opt/miniconda3/envs/massive_algos_env/lib/python3.12/site-packages/multiprocess/connection.py\", line 398, in _recv\n",
      "    chunk = read(handle, remaining)\n",
      "            ^^^^^^^^^^^^^^^^^^^^^^^\n",
      "KeyboardInterrupt\n"
     ]
    }
   ],
   "source": [
    "mr = MapReduce(8, select_by_frequent_items, reduce)"
   ]
  },
  {
   "cell_type": "code",
   "execution_count": 40,
   "id": "9fdff8cb-9997-44d1-9967-8e27fef767a4",
   "metadata": {},
   "outputs": [],
   "source": [
    "start = time.process_time()\n",
    "\n",
    "for row_count in row_counts:\n",
    "    data = mr(df.iloc[:row_count].to_dict('records'))\n",
    "    df_frequent_2 = pd.DataFrame(data)\n",
    "    \n",
    "    delta = time.process_time() - start\n",
    "    start = time.process_time()\n",
    "    data_timing.append({\"rows\": row_count, \"time\": delta, \"implementation\": \"custom MR\"})"
   ]
  },
  {
   "cell_type": "code",
   "execution_count": 46,
   "id": "c7445b06-8aa5-4fe3-aef2-5db3867d1315",
   "metadata": {},
   "outputs": [
    {
     "data": {
      "image/png": "[encoded data removed]",
      "text/plain": [
       "<Figure size 640x480 with 1 Axes>"
      ]
     },
     "metadata": {},
     "output_type": "display_data"
    }
   ],
   "source": [
    "df_comp = pd.DataFrame(data_timing)\n",
    "for impl in [\"pandas\", \"custom MR\"]:\n",
    "    data = df_comp[df_comp[\"implementation\"] == impl]\n",
    "    plt.plot(data[\"rows\"], data[\"time\"], label = impl)\n",
    "\n",
    "plt.legend()\n",
    "plt.xlabel(\"Number of rows\")\n",
    "plt.ylabel(\"Time of processing, s\")\n",
    "plt.show()"
   ]
  },
  {
   "cell_type": "markdown",
   "id": "19156c25-37f7-4a03-b451-3781a0ad337b",
   "metadata": {},
   "source": [
    "The analysis of time required for selecting rows with frequent items shows that the custom MapReduce implementation performs faster than pandas filtering at small dataset sizes (up to hundreds of thousands of rows).\n",
    "\n",
    "The pandas selection performs almost at a constant time, while custom implementation needs more time as dataset becomes larger.\\\n",
    "This fact may highlight the drawbacks of custom implementation , persumably, in the reduce algorithm."
   ]
  },
  {
   "cell_type": "markdown",
   "id": "8adcf656-37d9-49b2-b53a-436d3ea08350",
   "metadata": {},
   "source": [
    "# Market-basket analysis continued"
   ]
  },
  {
   "cell_type": "markdown",
   "id": "436e9927-a00e-4617-ad81-cd78faab400e",
   "metadata": {},
   "source": [
    "Often support alone as a metric can be misleading: for example, the support of the association rule of two independently popular items might be high, but such rules are useless from marketing point of view.\n",
    "`confidence` and `lift` metrics can help us gain more valuable insights.\n",
    "\n",
    "- confidence of the rule I -> j - is the fraction of the baskets with all of I that also contain j. Confidence has a direction, so there will be two calculations for each pair;\n",
    "- interest of the rule I -> j: the difference between its confidence and the fraction of baskets that contain j;\n",
    "\n",
    "I will also use cosine similarity to clear the associations rules a bit and get rid of similar objects in the results."
   ]
  },
  {
   "cell_type": "code",
   "execution_count": 47,
   "id": "2741fe86-4774-4f69-90f0-acf96787e097",
   "metadata": {},
   "outputs": [],
   "source": [
    "from sklearn.metrics.pairwise import cosine_similarity\n",
    "from sklearn.feature_extraction.text import TfidfVectorizer\n",
    "\n",
    "vectorizer = TfidfVectorizer(analyzer='char')\n",
    "\n",
    "def get_cosine_similarity(item_1, item_2):\n",
    "    return cosine_similarity(vectorizer.transform([item_1]), vectorizer.transform([item_2]))[0][0]"
   ]
  },
  {
   "cell_type": "code",
   "execution_count": 48,
   "id": "291fba2f-4053-49bd-8aad-5e4ac1755ebd",
   "metadata": {},
   "outputs": [],
   "source": [
    "df = get_df(sample=False)\n",
    "df = process_df(df)\n",
    "\n",
    "basket_cnt = len(df['user_id'].unique())\n",
    "\n",
    "singleton_support = df\\\n",
    "    .groupby('id_int')['id_int']\\\n",
    "    .count().reset_index(name='cnt')\n",
    "singleton_support[\"fraction\"] = singleton_support[\"cnt\"]/basket_cnt\n",
    "\n",
    "id_titles = df[['id_int', 'title']].drop_duplicates().to_dict('records')\n",
    "id_to_title = {}\n",
    "for it in id_titles:\n",
    "    id_to_title[it['id_int']] = it['title']"
   ]
  },
  {
   "cell_type": "code",
   "execution_count": 49,
   "id": "528a7205-1cbe-449a-bddf-3683d29776f5",
   "metadata": {},
   "outputs": [
    {
     "name": "stdout",
     "output_type": "stream",
     "text": [
      "Dataset size: 2397614\n",
      "Number of baskets: 1008972\n",
      "Number of unique items: 216023\n",
      "Frequent items count:  109\n",
      "Memory used (MB): 58\n"
     ]
    }
   ],
   "source": [
    "df_pairs = run_pcy(df, get_frequent_pairs_pcy, 0.1, True)"
   ]
  },
  {
   "cell_type": "code",
   "execution_count": 50,
   "id": "7be15eb4-e090-4880-b609-2a87070fa174",
   "metadata": {},
   "outputs": [
    {
     "data": {
      "text/html": [
       "<div>\n",
       "<style scoped>\n",
       "    .dataframe tbody tr th:only-of-type {\n",
       "        vertical-align: middle;\n",
       "    }\n",
       "\n",
       "    .dataframe tbody tr th {\n",
       "        vertical-align: top;\n",
       "    }\n",
       "\n",
       "    .dataframe thead th {\n",
       "        text-align: right;\n",
       "    }\n",
       "</style>\n",
       "<table border=\"1\" class=\"dataframe\">\n",
       "  <thead>\n",
       "    <tr style=\"text-align: right;\">\n",
       "      <th></th>\n",
       "      <th>i</th>\n",
       "      <th>j</th>\n",
       "      <th>c</th>\n",
       "    </tr>\n",
       "  </thead>\n",
       "  <tbody>\n",
       "    <tr>\n",
       "      <th>5811</th>\n",
       "      <td>5836</td>\n",
       "      <td>147599</td>\n",
       "      <td>3561</td>\n",
       "    </tr>\n",
       "    <tr>\n",
       "      <th>5</th>\n",
       "      <td>147599</td>\n",
       "      <td>147599</td>\n",
       "      <td>3561</td>\n",
       "    </tr>\n",
       "    <tr>\n",
       "      <th>27</th>\n",
       "      <td>147599</td>\n",
       "      <td>147599</td>\n",
       "      <td>3539</td>\n",
       "    </tr>\n",
       "    <tr>\n",
       "      <th>5833</th>\n",
       "      <td>119744</td>\n",
       "      <td>147599</td>\n",
       "      <td>3539</td>\n",
       "    </tr>\n",
       "    <tr>\n",
       "      <th>18</th>\n",
       "      <td>147599</td>\n",
       "      <td>147599</td>\n",
       "      <td>3535</td>\n",
       "    </tr>\n",
       "  </tbody>\n",
       "</table>\n",
       "</div>"
      ],
      "text/plain": [
       "           i       j     c\n",
       "5811    5836  147599  3561\n",
       "5     147599  147599  3561\n",
       "27    147599  147599  3539\n",
       "5833  119744  147599  3539\n",
       "18    147599  147599  3535"
      ]
     },
     "execution_count": 50,
     "metadata": {},
     "output_type": "execute_result"
    }
   ],
   "source": [
    "df_pairs_2 = df_pairs.copy()\n",
    "df_pairs_2['i'] = df_pairs['i']\n",
    "df_pairs_2['i'] = df_pairs['j']\n",
    "df_pairs = pd.concat([df_pairs_2, df_pairs], ignore_index=True)\n",
    "\n",
    "df_pairs = df_pairs.sort_values(by='c', ascending=False)\n",
    "df_pairs.head()"
   ]
  },
  {
   "cell_type": "code",
   "execution_count": 51,
   "id": "8d094380-848a-4d41-909a-e2887617ed0e",
   "metadata": {},
   "outputs": [],
   "source": [
    "df_conf = pd.merge(df_pairs, singleton_support[[\"id_int\", \"cnt\"]], left_on=\"i\", right_on=\"id_int\")\n",
    "df_conf = pd.merge(df_conf, singleton_support[[\"id_int\", \"fraction\"]], left_on=\"j\", right_on=\"id_int\")\n",
    "\n",
    "df_conf = df_conf.rename(columns={'cnt': 'i_support', 'fraction': 'j_fraction'})\n",
    "df_conf = df_conf[['i', 'j', 'c', 'i_support', 'j_fraction']]\n",
    "\n",
    "df_conf['confidence'] = df_conf['c']/df_conf['i_support']\n",
    "df_conf['interest'] = df_conf['confidence'] - df_conf['j_fraction']\n",
    "\n",
    "df_conf['I_title'] = df_conf['i'].apply(lambda x: id_to_title[x])\n",
    "df_conf['j_title'] = df_conf['j'].apply(lambda x: id_to_title[x])\n",
    "\n",
    "df_conf = df_conf.sort_values(by='interest', ascending=False)\n",
    "df_conf = df_conf[df_conf['I_title'].str.lower() != df_conf['j_title'].str.lower()]\n",
    "\n",
    "tfidf_matrix = vectorizer.fit_transform(df_conf['I_title'].unique())\n",
    "\n",
    "df_conf['similarity'] = df_conf.apply(lambda row: get_cosine_similarity(row['I_title'], row['j_title']), axis=1)"
   ]
  },
  {
   "cell_type": "code",
   "execution_count": 52,
   "id": "42f5263d-6ce7-4c65-87ce-4d6557d90347",
   "metadata": {},
   "outputs": [
    {
     "data": {
      "text/html": [
       "<div>\n",
       "<style scoped>\n",
       "    .dataframe tbody tr th:only-of-type {\n",
       "        vertical-align: middle;\n",
       "    }\n",
       "\n",
       "    .dataframe tbody tr th {\n",
       "        vertical-align: top;\n",
       "    }\n",
       "\n",
       "    .dataframe thead th {\n",
       "        text-align: right;\n",
       "    }\n",
       "</style>\n",
       "<table border=\"1\" class=\"dataframe\">\n",
       "  <thead>\n",
       "    <tr style=\"text-align: right;\">\n",
       "      <th></th>\n",
       "      <th>I_title</th>\n",
       "      <th>j_title</th>\n",
       "      <th>confidence</th>\n",
       "      <th>interest</th>\n",
       "      <th>similarity</th>\n",
       "    </tr>\n",
       "  </thead>\n",
       "  <tbody>\n",
       "    <tr>\n",
       "      <th>510</th>\n",
       "      <td>The Lord of the Rings Trilogy 3 Volumes</td>\n",
       "      <td>The Hobbit</td>\n",
       "      <td>0.12</td>\n",
       "      <td>0.12</td>\n",
       "      <td>0.48</td>\n",
       "    </tr>\n",
       "    <tr>\n",
       "      <th>506</th>\n",
       "      <td>The Lord of the Rings (3 Volume Set)</td>\n",
       "      <td>The Hobbit</td>\n",
       "      <td>0.12</td>\n",
       "      <td>0.12</td>\n",
       "      <td>0.49</td>\n",
       "    </tr>\n",
       "    <tr>\n",
       "      <th>623</th>\n",
       "      <td>The Great Gatsby</td>\n",
       "      <td>The Catcher in the Rye [Audiobook] [Cd] [Unabr...</td>\n",
       "      <td>0.09</td>\n",
       "      <td>0.08</td>\n",
       "      <td>0.42</td>\n",
       "    </tr>\n",
       "    <tr>\n",
       "      <th>614</th>\n",
       "      <td>Great Gatsby (Everyman)</td>\n",
       "      <td>The Catcher in the Rye [Audiobook] [Cd] [Unabr...</td>\n",
       "      <td>0.08</td>\n",
       "      <td>0.08</td>\n",
       "      <td>0.40</td>\n",
       "    </tr>\n",
       "    <tr>\n",
       "      <th>723</th>\n",
       "      <td>Jane Eyre (Signet classics)</td>\n",
       "      <td>Pride and Prejudice</td>\n",
       "      <td>0.08</td>\n",
       "      <td>0.08</td>\n",
       "      <td>0.49</td>\n",
       "    </tr>\n",
       "  </tbody>\n",
       "</table>\n",
       "</div>"
      ],
      "text/plain": [
       "                                     I_title  \\\n",
       "510  The Lord of the Rings Trilogy 3 Volumes   \n",
       "506     The Lord of the Rings (3 Volume Set)   \n",
       "623                         The Great Gatsby   \n",
       "614                  Great Gatsby (Everyman)   \n",
       "723              Jane Eyre (Signet classics)   \n",
       "\n",
       "                                               j_title  confidence  interest  \\\n",
       "510                                         The Hobbit        0.12      0.12   \n",
       "506                                         The Hobbit        0.12      0.12   \n",
       "623  The Catcher in the Rye [Audiobook] [Cd] [Unabr...        0.09      0.08   \n",
       "614  The Catcher in the Rye [Audiobook] [Cd] [Unabr...        0.08      0.08   \n",
       "723                                Pride and Prejudice        0.08      0.08   \n",
       "\n",
       "     similarity  \n",
       "510        0.48  \n",
       "506        0.49  \n",
       "623        0.42  \n",
       "614        0.40  \n",
       "723        0.49  "
      ]
     },
     "execution_count": 52,
     "metadata": {},
     "output_type": "execute_result"
    }
   ],
   "source": [
    "df_conf[['I_title', 'j_title', 'confidence', 'interest', 'similarity']][\n",
    "    (df_conf['interest'] > 0.03)\n",
    "    & (df_conf['similarity'] < 0.5)\n",
    "    & (df_conf['confidence'] < 0.9)\n",
    "    & (~df_conf.duplicated(['I_title', 'j_title']))\n",
    "].head().round(2)"
   ]
  },
  {
   "cell_type": "markdown",
   "id": "6b355efd-d5a0-4216-b9c1-737714f7d224",
   "metadata": {},
   "source": [
    "### Chart"
   ]
  },
  {
   "cell_type": "code",
   "execution_count": 53,
   "id": "811221bc-83d5-49c1-8810-96bdb53ad4a9",
   "metadata": {},
   "outputs": [],
   "source": [
    "import networkx as nx\n",
    "import matplotlib.pyplot as plt"
   ]
  },
  {
   "cell_type": "code",
   "execution_count": 54,
   "id": "710f3c2e-4132-4a58-80b1-ee561dbee604",
   "metadata": {},
   "outputs": [],
   "source": [
    "def get_associations_by_title(title: str) -> list[tuple]:\n",
    "    associations = []\n",
    "    recs = df_conf[(df_conf['I_title'] == title) \n",
    "        & (df_conf['interest'] > 0.03)\n",
    "        & (df_conf['similarity'] < 0.5)\n",
    "    ]['j_title'].unique()\n",
    "    recs = list(set(r.upper() for r in recs))\n",
    "    for r in recs:\n",
    "        if len(r) > 50:\n",
    "            splits = r.split(' ')\n",
    "            split_cnt = len(splits)\n",
    "            half = int(split_cnt/2)\n",
    "            r = ' '.join(splits[0:half]) + \"\\n\" + ' '.join(splits[half: split_cnt+1])\n",
    "        associations.append((title, r))\n",
    "    return associations"
   ]
  },
  {
   "cell_type": "code",
   "execution_count": 55,
   "id": "78dc1292-dadc-4e42-a3d2-c34ed166fb37",
   "metadata": {},
   "outputs": [
    {
     "data": {
      "image/png": "[encoded data removed]",
      "text/plain": [
       "<Figure size 800x800 with 1 Axes>"
      ]
     },
     "metadata": {},
     "output_type": "display_data"
    }
   ],
   "source": [
    "title = 'The Great Gatsby'\n",
    "\n",
    "G = nx.DiGraph()\n",
    "G.add_edges_from(get_associations_by_title(title))\n",
    "\n",
    "plt.figure(3,figsize=(8,8)) \n",
    "nx.draw(G, with_labels=True, font_size=9)\n",
    "\n",
    "plt.show()"
   ]
  }
 ],
 "metadata": {
  "kernelspec": {
   "display_name": "massive_algos_env",
   "language": "python",
   "name": "massive_algos_env"
  },
  "language_info": {
   "codemirror_mode": {
    "name": "ipython",
    "version": 3
   },
   "file_extension": ".py",
   "mimetype": "text/x-python",
   "name": "python",
   "nbconvert_exporter": "python",
   "pygments_lexer": "ipython3",
   "version": "3.12.9"
  }
 },
 "nbformat": 4,
 "nbformat_minor": 5
}
